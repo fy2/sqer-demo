{
 "metadata": {
  "name": ""
 },
 "nbformat": 3,
 "nbformat_minor": 0,
 "worksheets": [
  {
   "cells": [
    {
     "cell_type": "code",
     "collapsed": false,
     "input": [
      "data = numpy.loadtxt('lengths.txt')\n",
      "hist(data, bins=100)"
     ],
     "language": "python",
     "metadata": {},
     "outputs": [
      {
       "metadata": {},
       "output_type": "pyout",
       "prompt_number": 1,
       "text": [
        "(array([1, 2, 1, 4, 9, 0, 2, 0, 1, 2, 3, 0, 1, 2, 1, 3, 5, 0, 0, 0, 0, 3, 5,\n",
        "       0, 0, 2, 1, 3, 1, 0, 0, 0, 1, 2, 4, 0, 2, 0, 0, 2, 3, 0, 1, 2, 3, 1,\n",
        "       1, 0, 1, 2, 2, 1, 0, 2, 1, 2, 1, 2, 0, 2, 0, 1, 0, 0, 0, 1, 0, 0, 0,\n",
        "       0, 0, 1, 1, 0, 1, 0, 0, 1, 0, 0, 0, 0, 0, 2, 0, 0, 0, 0, 0, 0, 0, 1,\n",
        "       0, 0, 0, 0, 0, 0, 0, 1]),\n",
        " array([  31.  ,   31.83,   32.66,   33.49,   34.32,   35.15,   35.98,\n",
        "         36.81,   37.64,   38.47,   39.3 ,   40.13,   40.96,   41.79,\n",
        "         42.62,   43.45,   44.28,   45.11,   45.94,   46.77,   47.6 ,\n",
        "         48.43,   49.26,   50.09,   50.92,   51.75,   52.58,   53.41,\n",
        "         54.24,   55.07,   55.9 ,   56.73,   57.56,   58.39,   59.22,\n",
        "         60.05,   60.88,   61.71,   62.54,   63.37,   64.2 ,   65.03,\n",
        "         65.86,   66.69,   67.52,   68.35,   69.18,   70.01,   70.84,\n",
        "         71.67,   72.5 ,   73.33,   74.16,   74.99,   75.82,   76.65,\n",
        "         77.48,   78.31,   79.14,   79.97,   80.8 ,   81.63,   82.46,\n",
        "         83.29,   84.12,   84.95,   85.78,   86.61,   87.44,   88.27,\n",
        "         89.1 ,   89.93,   90.76,   91.59,   92.42,   93.25,   94.08,\n",
        "         94.91,   95.74,   96.57,   97.4 ,   98.23,   99.06,   99.89,\n",
        "        100.72,  101.55,  102.38,  103.21,  104.04,  104.87,  105.7 ,\n",
        "        106.53,  107.36,  108.19,  109.02,  109.85,  110.68,  111.51,\n",
        "        112.34,  113.17,  114.  ]),\n",
        " <a list of 100 Patch objects>)"
       ]
      },
      {
       "metadata": {},
       "output_type": "display_data",
       "png": "[encoded data removed]",
       "text": [
        "<matplotlib.figure.Figure at 0x10b935f50>"
       ]
      }
     ],
     "prompt_number": 1
    },
    {
     "cell_type": "code",
     "collapsed": false,
     "input": [],
     "language": "python",
     "metadata": {},
     "outputs": []
    }
   ],
   "metadata": {}
  }
 ]
}